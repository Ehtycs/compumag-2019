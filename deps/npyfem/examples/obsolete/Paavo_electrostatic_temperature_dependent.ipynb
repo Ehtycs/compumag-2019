{
 "cells": [
  {
   "cell_type": "code",
   "execution_count": 1,
   "metadata": {},
   "outputs": [],
   "source": [
    "import mesh.parser as mp\n",
    "import numpy as np\n",
    "from mesh.npmesh import NPMesh\n",
    "\n",
    "from scipy import sparse as sps\n",
    "from scipy.sparse import linalg as splinalg\n",
    "from scipy import optimize as opt\n",
    "\n",
    "from matplotlib import pyplot as plt "
   ]
  },
  {
   "cell_type": "code",
   "execution_count": 2,
   "metadata": {
    "collapsed": true
   },
   "outputs": [],
   "source": [
    "with open('../npyfem/resources/paavo_electrostatic_heat.msh') as fileh:\n",
    "    (nodes, elements) = mp.parse_mesh(fileh)\n",
    "msh = NPMesh(nodes, elements) #something is heavy here with fine meshes"
   ]
  },
  {
   "cell_type": "code",
   "execution_count": 3,
   "metadata": {
    "collapsed": true
   },
   "outputs": [],
   "source": [
    "ele=msh.domains[1001][2]\n",
    "south=msh.domains[2001][1]\n",
    "north=msh.domains[2002][1]"
   ]
  },
  {
   "cell_type": "markdown",
   "metadata": {},
   "source": [
    "Stiffness matrix in weak formulation is\n",
    "$$ K=\\int_\\Omega <\\sigma \\nabla Ni,\\nabla N_j> $$\n",
    "where $$\\sigma = \\frac{1}{\\rho(T)}=\\frac{1}{\\rho_0(1+\\alpha(T-T_1))}\n",
    "=\\frac{1}{\\rho_0(1+\\alpha((T_1-\\frac{r}{\\sqrt{2}d}(T_2-T_1))-T_r))}.$$\n",
    "The constants are $\\rho_0=$, $\\alpha=$, $d=0.08$m, $T_r=20^\\circ$C, $T_1=90^\\circ$C and $T_2=390^\\circ$C. Naturally $r=\\sqrt{x^2+y^2}$.\n",
    "\n",
    "Furthermore we set $u=u_1$ in $\\Gamma_{south}$ and $u=u_2$ in $\\Gamma_{north}$.\n",
    "\n",
    "Defining the conductivity first."
   ]
  },
  {
   "cell_type": "code",
   "execution_count": 4,
   "metadata": {
    "collapsed": true
   },
   "outputs": [],
   "source": [
    "rho0=1\n",
    "alpha=0\n",
    "d=0.08\n",
    "Tr=20\n",
    "T1=90\n",
    "T2=390\n",
    "u1=0\n",
    "u2=1\n",
    "#can python/numpy handle function compositions? Would prevent chaos like this:\n",
    "rho_sc=lambda x: 1/(rho0*(1+alpha*((T1-np.sqrt(x[:,:,:,0]**2+x[:,:,:,1]**2)/(np.sqrt(2)*d)*(T2-T1))-Tr)))"
   ]
  },
  {
   "cell_type": "markdown",
   "metadata": {},
   "source": [
    "Next, we define integration, shape functions, their derivatives, jacobians and their determinants and the scalar function $\\rho$."
   ]
  },
  {
   "cell_type": "code",
   "execution_count": 5,
   "metadata": {},
   "outputs": [
    {
     "ename": "AttributeError",
     "evalue": "'Triangles_3node' object has no attribute 'def_shapefunctions'",
     "output_type": "error",
     "traceback": [
      "\u001b[0;31m---------------------------------------------------------------------------\u001b[0m",
      "\u001b[0;31mAttributeError\u001b[0m                            Traceback (most recent call last)",
      "\u001b[0;32m<ipython-input-5-4637f98b9457>\u001b[0m in \u001b[0;36m<module>\u001b[0;34m()\u001b[0m\n\u001b[1;32m      1\u001b[0m \u001b[0mele\u001b[0m\u001b[0;34m.\u001b[0m\u001b[0mdef_integration\u001b[0m\u001b[0;34m(\u001b[0m\u001b[0;36m3\u001b[0m\u001b[0;34m)\u001b[0m  \u001b[0;31m#integration and shapefunciton definitions are arbitrary for prototyping.\u001b[0m\u001b[0;34m\u001b[0m\u001b[0m\n\u001b[0;32m----> 2\u001b[0;31m \u001b[0mele\u001b[0m\u001b[0;34m.\u001b[0m\u001b[0mdef_shapefunctions\u001b[0m\u001b[0;34m(\u001b[0m\u001b[0;34m)\u001b[0m\u001b[0;31m#should these be done automatically with some 'default' values? how?\u001b[0m\u001b[0;34m\u001b[0m\u001b[0m\n\u001b[0m\u001b[1;32m      3\u001b[0m \u001b[0;34m\u001b[0m\u001b[0m\n\u001b[1;32m      4\u001b[0m \u001b[0mJ\u001b[0m\u001b[0;34m=\u001b[0m\u001b[0mele\u001b[0m\u001b[0;34m.\u001b[0m\u001b[0mget_jacobians_isop\u001b[0m\u001b[0;34m(\u001b[0m\u001b[0mele\u001b[0m\u001b[0;34m.\u001b[0m\u001b[0mintpoints\u001b[0m\u001b[0;34m,\u001b[0m\u001b[0;34m[\u001b[0m\u001b[0;36m0\u001b[0m\u001b[0;34m,\u001b[0m\u001b[0;36m1\u001b[0m\u001b[0;34m]\u001b[0m\u001b[0;34m)\u001b[0m\u001b[0;34m\u001b[0m\u001b[0m\n\u001b[1;32m      5\u001b[0m \u001b[0mdetJ\u001b[0m\u001b[0;34m=\u001b[0m\u001b[0mele\u001b[0m\u001b[0;34m.\u001b[0m\u001b[0mget_detj_isop\u001b[0m\u001b[0;34m(\u001b[0m\u001b[0mele\u001b[0m\u001b[0;34m.\u001b[0m\u001b[0mintpoints\u001b[0m\u001b[0;34m,\u001b[0m\u001b[0;34m[\u001b[0m\u001b[0;36m0\u001b[0m\u001b[0;34m,\u001b[0m\u001b[0;36m1\u001b[0m\u001b[0;34m]\u001b[0m\u001b[0;34m)\u001b[0m\u001b[0;34m\u001b[0m\u001b[0m\n",
      "\u001b[0;31mAttributeError\u001b[0m: 'Triangles_3node' object has no attribute 'def_shapefunctions'"
     ]
    }
   ],
   "source": [
    "ele.def_integration(3)  #integration and shapefunciton definitions are arbitrary for prototyping.\n",
    "ele.def_shapefunctions()#should these be done automatically with some 'default' values? how?\n",
    "\n",
    "J=ele.get_jacobians_isop(ele.intpoints,[0,1])\n",
    "detJ=ele.get_detj_isop(ele.intpoints,[0,1])\n",
    "dN_ref=ele.dform0_ref(ele.intpoints)\n",
    "\n",
    "dN=np.linalg.solve(J,dN_ref)\n",
    "rho=ele.evaluate_function(rho_sc,ele.intpoints)"
   ]
  },
  {
   "cell_type": "markdown",
   "metadata": {},
   "source": [
    "The stiffness matrix:"
   ]
  },
  {
   "cell_type": "code",
   "execution_count": null,
   "metadata": {
    "collapsed": true
   },
   "outputs": [],
   "source": [
    "K=ele.assemble_gnode(\n",
    "    ele.integrate_ref(\n",
    "        rho*np.matmul(dN.transpose((0,1,3,2)),dN)*detJ\n",
    "    )\n",
    ")"
   ]
  },
  {
   "cell_type": "code",
   "execution_count": null,
   "metadata": {
    "collapsed": true
   },
   "outputs": [],
   "source": []
  },
  {
   "cell_type": "markdown",
   "metadata": {},
   "source": [
    "Then we impose boundary conditions. If\n",
    "$$(Ka)_i=\\sum_{j=1}^n K_{ij}a_j=\\sum_{j\\in U}K_{ij}a_j+\\sum_{j\\in B}K_{ij}a_j = 0,$$\n",
    "where $a_j$ are known boundary values whence $j\\in B \\subset \\{1,...,n\\}$, we get\n",
    "$$ \\sum_{j\\in U}K_{ij}a_j = - \\sum_{j\\in B}K_{ij}a_j$$"
   ]
  },
  {
   "cell_type": "markdown",
   "metadata": {},
   "source": [
    "Defining $S_{ij}=K_{ij}$, if $i,j \\in U$ and $S_{ij}=\\delta_{ij}$ otherwise and $T_{ij}=K_{ij}$, if $i,j \\in B$, and $T_{ij}=0$ otherwise, the solution $a$ may be obtained by solving\n",
    "$$ Sa=-Tb,$$ where $b_i=a_i$, if $i\\in B$ and arbitrary otherwise. "
   ]
  },
  {
   "cell_type": "markdown",
   "metadata": {},
   "source": [
    "Now we define the \"source vector\" determined by the boundary values."
   ]
  },
  {
   "cell_type": "code",
   "execution_count": null,
   "metadata": {
    "collapsed": true
   },
   "outputs": [],
   "source": [
    "#the following is way too tedious. could part of this be written into msh-class in some non-trivial-enough way?\n",
    "#should we think about both linear and nonlinear cases for that? different formulations obviously.\n",
    "south_nodes=south.gnop.flatten()\n",
    "north_nodes=north.gnop.flatten()\n",
    "\n",
    "nodenumber=msh.nodes.shape[0]\n",
    "b=np.zeros((nodenumber))\n",
    "b[south_nodes]=u1\n",
    "b[north_nodes]=u2\n",
    "\n",
    "s_and_n=np.unique(np.array([south_nodes,north_nodes]).flatten())\n",
    "allnodes=np.linspace(0,nodenumber-1,nodenumber)\n",
    "not_sn=np.setdiff1d(allnodes,s_and_n)"
   ]
  },
  {
   "cell_type": "code",
   "execution_count": null,
   "metadata": {
    "collapsed": true
   },
   "outputs": [],
   "source": [
    "S=sps.eye(K.shape[0]).tocsr()\n",
    "S[np.ix_(not_sn,not_sn)]=K[np.ix_(not_sn,not_sn)]\n",
    "T=sps.csr_matrix(K.shape).tolil()\n",
    "T[np.ix_(s_and_n,s_and_n)]=K[np.ix_(s_and_n,s_and_n)]"
   ]
  },
  {
   "cell_type": "code",
   "execution_count": null,
   "metadata": {
    "collapsed": true
   },
   "outputs": [],
   "source": [
    "a=sps.linalg.spsolve(S,b-T.dot(b))"
   ]
  },
  {
   "cell_type": "code",
   "execution_count": null,
   "metadata": {
    "collapsed": true
   },
   "outputs": [],
   "source": [
    "a!=0"
   ]
  },
  {
   "cell_type": "code",
   "execution_count": null,
   "metadata": {
    "collapsed": true
   },
   "outputs": [],
   "source": []
  }
 ],
 "metadata": {
  "kernelspec": {
   "display_name": "Python 3",
   "language": "python",
   "name": "python3"
  },
  "language_info": {
   "codemirror_mode": {
    "name": "ipython",
    "version": 3
   },
   "file_extension": ".py",
   "mimetype": "text/x-python",
   "name": "python",
   "nbconvert_exporter": "python",
   "pygments_lexer": "ipython3",
   "version": "3.6.0"
  }
 },
 "nbformat": 4,
 "nbformat_minor": 2
}
