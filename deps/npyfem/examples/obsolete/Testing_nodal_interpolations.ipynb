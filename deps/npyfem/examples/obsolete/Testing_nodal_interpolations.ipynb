{
 "cells": [
  {
   "cell_type": "markdown",
   "metadata": {},
   "source": [
    "Let us now consider integrating a scalar function over a domain. There are at least two ways to carry this out. First we import necessary libraries."
   ]
  },
  {
   "cell_type": "code",
   "execution_count": 1,
   "metadata": {
    "collapsed": true
   },
   "outputs": [],
   "source": [
    "import mesh.parser as mp\n",
    "import numpy as np\n",
    "from mesh.npmesh import NPMesh"
   ]
  },
  {
   "cell_type": "markdown",
   "metadata": {
    "collapsed": true
   },
   "source": [
    "Then we open our mesh."
   ]
  },
  {
   "cell_type": "code",
   "execution_count": 2,
   "metadata": {
    "collapsed": true
   },
   "outputs": [],
   "source": [
    "#simple first order mesh\n",
    "with open('../npyfem/resources/simple2d.msh') as fileh:\n",
    "    (nodes, elements) = mp.parse_mesh(fileh)\n",
    "msh = NPMesh(nodes, elements)"
   ]
  },
  {
   "cell_type": "markdown",
   "metadata": {},
   "source": [
    "We consider the triangles in region 0."
   ]
  },
  {
   "cell_type": "code",
   "execution_count": 3,
   "metadata": {
    "collapsed": true
   },
   "outputs": [],
   "source": [
    "#ele=msh.domains[0][2]\n",
    "ele = msh.get_elements(2,0)[0]\n",
    "#ele.def_shapefunctions()\n",
    "#ele.def_integration(3)"
   ]
  },
  {
   "cell_type": "markdown",
   "metadata": {},
   "source": [
    "\\section{Three-node triangles}\n",
    "Now we define a function $f(x,y)=x^2y$. Note that there are artificial indices involved. This is due to vectorization which makes the script fast. Since this is quite artificial, should we think about a way to simplify this further?"
   ]
  },
  {
   "cell_type": "code",
   "execution_count": 4,
   "metadata": {
    "collapsed": true
   },
   "outputs": [],
   "source": [
    "f=lambda t: np.array(t[:,:,:,0]*t[:,:,:,0]*t[:,:,:,1])"
   ]
  },
  {
   "cell_type": "markdown",
   "metadata": {},
   "source": [
    "Our first approach is to evaluate $f$ straightforwardly in each integration point and integrate with the jacobian determinant."
   ]
  },
  {
   "cell_type": "code",
   "execution_count": 5,
   "metadata": {
    "collapsed": true
   },
   "outputs": [],
   "source": [
    "detJ=ele.get_detj_isop(ele.intpoints,[0,1])\n",
    "f_eval=ele.evaluate_function(f,ele.intpoints)"
   ]
  },
  {
   "cell_type": "markdown",
   "metadata": {},
   "source": [
    "Now integration is trivial."
   ]
  },
  {
   "cell_type": "code",
   "execution_count": 6,
   "metadata": {},
   "outputs": [
    {
     "data": {
      "text/plain": [
       "0.16666666666666669"
      ]
     },
     "execution_count": 6,
     "metadata": {},
     "output_type": "execute_result"
    }
   ],
   "source": [
    "Integral=ele.integrate_ref(f_eval*detJ)\n",
    "Integral.sum()"
   ]
  },
  {
   "cell_type": "markdown",
   "metadata": {},
   "source": [
    "Let us now try another approach. We compute the integral\n",
    "$$ \\int_{\\Omega_e} N\\alpha |J|, $$\n",
    "where $e$ is an element, $N$ are the shape functions defined in the element and $\\alpha$ is a coefficient matrix such that $f(x,y)$ is interpolated in the finite element basis. Let us compute the coefficients $\\alpha$."
   ]
  },
  {
   "cell_type": "code",
   "execution_count": 7,
   "metadata": {
    "collapsed": true
   },
   "outputs": [],
   "source": [
    "alpha=ele.interp_ncoeff_fromfunction(f)"
   ]
  },
  {
   "cell_type": "markdown",
   "metadata": {},
   "source": [
    "Next we compute the integrand."
   ]
  },
  {
   "cell_type": "markdown",
   "metadata": {},
   "source": []
  },
  {
   "cell_type": "code",
   "execution_count": 8,
   "metadata": {
    "collapsed": true
   },
   "outputs": [],
   "source": [
    "detJ=ele.get_detj_isop(ele.intpoints,[0,1])\n",
    "N=ele.form0_ref(ele.intpoints)\n",
    "Na=np.matmul(N,alpha)"
   ]
  },
  {
   "cell_type": "markdown",
   "metadata": {},
   "source": [
    "Now integration is trivial."
   ]
  },
  {
   "cell_type": "code",
   "execution_count": 9,
   "metadata": {},
   "outputs": [
    {
     "data": {
      "text/plain": [
       "0.20833333333333331"
      ]
     },
     "execution_count": 9,
     "metadata": {},
     "output_type": "execute_result"
    }
   ],
   "source": [
    "Integral=ele.integrate_ref(Na*detJ)\n",
    "Integral.sum()"
   ]
  },
  {
   "cell_type": "markdown",
   "metadata": {},
   "source": [
    "Should or should not the integrals be exact?"
   ]
  },
  {
   "cell_type": "markdown",
   "metadata": {},
   "source": [
    "\\section{Six-node triangles}\n",
    "We repeat the computations for six-node triangle mesh. Let us make the necessary definitions."
   ]
  },
  {
   "cell_type": "code",
   "execution_count": 10,
   "metadata": {
    "collapsed": true
   },
   "outputs": [],
   "source": [
    "#simple second order mesh\n",
    "with open('../npyfem/resources/simple2d_2ord.msh') as fileh:\n",
    "    (nodes, elements) = mp.parse_mesh(fileh)\n",
    "msh = NPMesh(nodes, elements)"
   ]
  },
  {
   "cell_type": "code",
   "execution_count": 11,
   "metadata": {
    "collapsed": true
   },
   "outputs": [],
   "source": [
    "ele=msh.domains[0][9]\n",
    "f=lambda t: np.array(t[:,:,:,0]*t[:,:,:,0]*t[:,:,:,1])\n",
    "detJ=ele.get_detj_isop(ele.intpoints,[0,1])"
   ]
  },
  {
   "cell_type": "markdown",
   "metadata": {},
   "source": [
    "Now we integrate by evaluationg $f$ at integration points."
   ]
  },
  {
   "cell_type": "code",
   "execution_count": 12,
   "metadata": {},
   "outputs": [
    {
     "data": {
      "text/plain": [
       "0.1666666666666666"
      ]
     },
     "execution_count": 12,
     "metadata": {},
     "output_type": "execute_result"
    }
   ],
   "source": [
    "f_eval=ele.evaluate_function(f,ele.intpoints)\n",
    "Integral=ele.integrate_ref(f_eval*detJ)\n",
    "Integral.sum()"
   ]
  },
  {
   "cell_type": "markdown",
   "metadata": {},
   "source": [
    "Next we interpolate $f$ at the FEM basis and compute the integral of $N\\alpha$, where $\\alpha$ are the coefficient such that $N\\alpha$ interpolates $f$."
   ]
  },
  {
   "cell_type": "code",
   "execution_count": 13,
   "metadata": {},
   "outputs": [
    {
     "data": {
      "text/plain": [
       "0.1666666666666666"
      ]
     },
     "execution_count": 13,
     "metadata": {},
     "output_type": "execute_result"
    }
   ],
   "source": [
    "alpha=ele.interp_ncoeff_fromfunction(f)\n",
    "detJ=ele.get_detj_isop(ele.intpoints,[0,1])\n",
    "N=ele.form0_ref(ele.intpoints)\n",
    "Na=np.matmul(N,alpha)\n",
    "Integral=ele.integrate_ref(Na*detJ)\n",
    "Integral.sum()"
   ]
  },
  {
   "cell_type": "markdown",
   "metadata": {},
   "source": [
    "\\section{Quadrangle mesh}\n",
    "Next we repeat the computations for quadrangle mesh. Making the definitions first."
   ]
  },
  {
   "cell_type": "code",
   "execution_count": 14,
   "metadata": {
    "collapsed": true
   },
   "outputs": [],
   "source": [
    "#simple quadrangle mesh\n",
    "with open('../npyfem/resources/simple2d_quad_4node.msh') as fileh:\n",
    "    (nodes, elements) = mp.parse_mesh(fileh)\n",
    "msh = NPMesh(nodes, elements)"
   ]
  },
  {
   "cell_type": "code",
   "execution_count": 15,
   "metadata": {
    "collapsed": true
   },
   "outputs": [],
   "source": [
    "ele=msh.domains[0][3]\n",
    "f=lambda t: np.array(t[:,:,:,0]*t[:,:,:,0]*t[:,:,:,1])\n",
    "detJ=ele.get_detj_isop(ele.intpoints,[0,1])"
   ]
  },
  {
   "cell_type": "markdown",
   "metadata": {},
   "source": [
    "Now we integrate by evaluationg $f$ at integration points."
   ]
  },
  {
   "cell_type": "code",
   "execution_count": 16,
   "metadata": {},
   "outputs": [
    {
     "data": {
      "text/plain": [
       "0.16666666666666669"
      ]
     },
     "execution_count": 16,
     "metadata": {},
     "output_type": "execute_result"
    }
   ],
   "source": [
    "f_eval=ele.evaluate_function(f,ele.intpoints)\n",
    "Integral=ele.integrate_ref(f_eval*detJ)\n",
    "Integral.sum()"
   ]
  },
  {
   "cell_type": "markdown",
   "metadata": {},
   "source": [
    "Next we interpolate $f$ at the FEM basis and compute the integral of $N\\alpha$, where $\\alpha$ are the coefficient such that $N\\alpha$ interpolates $f$."
   ]
  },
  {
   "cell_type": "code",
   "execution_count": 17,
   "metadata": {},
   "outputs": [
    {
     "data": {
      "text/plain": [
       "0.18750000000000003"
      ]
     },
     "execution_count": 17,
     "metadata": {},
     "output_type": "execute_result"
    }
   ],
   "source": [
    "alpha=ele.interp_ncoeff_fromfunction(f)\n",
    "detJ=ele.get_detj_isop(ele.intpoints,[0,1])\n",
    "N=ele.form0_ref(ele.intpoints)\n",
    "Na=np.matmul(N,alpha)\n",
    "Integral=ele.integrate_ref(Na*detJ)\n",
    "Integral.sum()"
   ]
  },
  {
   "cell_type": "markdown",
   "metadata": {},
   "source": [
    "\\section{Nine-node quadrangles}\n",
    "Let us try still repeat everything for nine-node quadrangles. Making the definitions first."
   ]
  },
  {
   "cell_type": "code",
   "execution_count": 18,
   "metadata": {
    "collapsed": true
   },
   "outputs": [],
   "source": [
    "#simple quadrangle mesh\n",
    "with open('../npyfem/resources/simple2d_quad_9node.msh') as fileh:\n",
    "    (nodes, elements) = mp.parse_mesh(fileh)\n",
    "msh = NPMesh(nodes, elements)"
   ]
  },
  {
   "cell_type": "code",
   "execution_count": 19,
   "metadata": {
    "collapsed": true
   },
   "outputs": [],
   "source": [
    "ele=msh.domains[0][10]\n",
    "f=lambda t: np.array(t[:,:,:,0]*t[:,:,:,0]*t[:,:,:,1])\n",
    "detJ=ele.get_detj_isop(ele.intpoints,[0,1])"
   ]
  },
  {
   "cell_type": "markdown",
   "metadata": {},
   "source": [
    "Now we integrate by evaluationg $f$ at integration points."
   ]
  },
  {
   "cell_type": "code",
   "execution_count": 20,
   "metadata": {},
   "outputs": [
    {
     "data": {
      "text/plain": [
       "0.16666666666666669"
      ]
     },
     "execution_count": 20,
     "metadata": {},
     "output_type": "execute_result"
    }
   ],
   "source": [
    "f_eval=ele.evaluate_function(f,ele.intpoints)\n",
    "Integral=ele.integrate_ref(f_eval*detJ)\n",
    "Integral.sum()"
   ]
  },
  {
   "cell_type": "markdown",
   "metadata": {},
   "source": [
    "Next we interpolate $f$ at the FEM basis and compute the integral of $N\\alpha$, where $\\alpha$ are the coefficient such that $N\\alpha$ interpolates $f$."
   ]
  },
  {
   "cell_type": "code",
   "execution_count": 21,
   "metadata": {},
   "outputs": [
    {
     "data": {
      "text/plain": [
       "0.16666666666666669"
      ]
     },
     "execution_count": 21,
     "metadata": {},
     "output_type": "execute_result"
    }
   ],
   "source": [
    "alpha=ele.interp_ncoeff_fromfunction(f)\n",
    "detJ=ele.get_detj_isop(ele.intpoints,[0,1])\n",
    "N=ele.form0_ref(ele.intpoints)\n",
    "Na=np.matmul(N,alpha)\n",
    "Integral=ele.integrate_ref(Na*detJ)\n",
    "Integral.sum()"
   ]
  }
 ],
 "metadata": {
  "kernelspec": {
   "display_name": "Python 3",
   "language": "python",
   "name": "python3"
  },
  "language_info": {
   "codemirror_mode": {
    "name": "ipython",
    "version": 3
   },
   "file_extension": ".py",
   "mimetype": "text/x-python",
   "name": "python",
   "nbconvert_exporter": "python",
   "pygments_lexer": "ipython3",
   "version": "3.6.0"
  }
 },
 "nbformat": 4,
 "nbformat_minor": 2
}
