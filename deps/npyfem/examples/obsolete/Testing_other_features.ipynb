{
 "cells": [
  {
   "cell_type": "code",
   "execution_count": 1,
   "metadata": {
    "collapsed": true
   },
   "outputs": [],
   "source": [
    "import mesh.parser as mp\n",
    "#from mesh_parser import Element, Node\n",
    "#import mesh\n",
    "#from mesh import NPMesh, build_nodes, build_elements\n",
    "#from itertools import count, dropwhile, takewhile, islice, product, tee\n",
    "#from collections import Counter\n",
    "import numpy as np\n",
    "#import numpy.linalg as lg\n",
    "#from functools import partial, reduce\n",
    "from mesh.npmesh import NPMesh\n",
    "\n",
    "from scipy import sparse as sps\n",
    "from scipy.sparse import linalg as splinalg"
   ]
  },
  {
   "cell_type": "code",
   "execution_count": 2,
   "metadata": {},
   "outputs": [
    {
     "data": {
      "text/plain": [
       "array([[1, 2],\n",
       "       [3, 4]])"
      ]
     },
     "execution_count": 2,
     "metadata": {},
     "output_type": "execute_result"
    }
   ],
   "source": [
    "np.array([[1,2], [3,4]])[:]"
   ]
  },
  {
   "cell_type": "code",
   "execution_count": 3,
   "metadata": {
    "collapsed": true
   },
   "outputs": [],
   "source": [
    "with open('../npyfem/resources/simple2d_2ord.msh') as fileh:\n",
    "    (nodes, elements) = mp.parse_mesh(fileh)\n",
    "msh = NPMesh(nodes, elements)"
   ]
  },
  {
   "cell_type": "markdown",
   "metadata": {},
   "source": [
    "$\\int_{\\Omega_e}<J^{-1}dN,J^{-1}dN>|J|$"
   ]
  },
  {
   "cell_type": "code",
   "execution_count": 5,
   "metadata": {},
   "outputs": [
    {
     "data": {
      "text/plain": [
       "{0: {8: <mesh.entities.lines.Lines_3node at 0x7f2c889a97f0>,\n",
       "  9: <mesh.entities.triangles.Triangles_6node at 0x7f2c889a96a0>,\n",
       "  15: <mesh.entities.entities.Points at 0x7f2c889a9898>},\n",
       " 1: {8: <mesh.entities.lines.Lines_3node at 0x7f2c889a9748>,\n",
       "  9: <mesh.entities.triangles.Triangles_6node at 0x7f2c889a9710>,\n",
       "  15: <mesh.entities.entities.Points at 0x7f2c889a9780>},\n",
       " 2: {8: <mesh.entities.lines.Lines_3node at 0x7f2c889a9a20>,\n",
       "  15: <mesh.entities.entities.Points at 0x7f2c889a99e8>},\n",
       " 3: {8: <mesh.entities.lines.Lines_3node at 0x7f2c889a9978>,\n",
       "  15: <mesh.entities.entities.Points at 0x7f2c889a9a58>},\n",
       " 4: {8: <mesh.entities.lines.Lines_3node at 0x7f2c889a9a90>,\n",
       "  15: <mesh.entities.entities.Points at 0x7f2c889a98d0>}}"
      ]
     },
     "execution_count": 5,
     "metadata": {},
     "output_type": "execute_result"
    }
   ],
   "source": [
    "nodes[0]\n",
    "msh.domains"
   ]
  },
  {
   "cell_type": "code",
   "execution_count": 6,
   "metadata": {},
   "outputs": [
    {
     "ename": "KeyError",
     "evalue": "2",
     "output_type": "error",
     "traceback": [
      "\u001b[0;31m---------------------------------------------------------------------------\u001b[0m",
      "\u001b[0;31mKeyError\u001b[0m                                  Traceback (most recent call last)",
      "\u001b[0;32m<ipython-input-6-7b4004fbd768>\u001b[0m in \u001b[0;36m<module>\u001b[0;34m()\u001b[0m\n\u001b[0;32m----> 1\u001b[0;31m \u001b[0mtri\u001b[0m\u001b[0;34m=\u001b[0m\u001b[0mmsh\u001b[0m\u001b[0;34m.\u001b[0m\u001b[0mdomains\u001b[0m\u001b[0;34m[\u001b[0m\u001b[0;36m0\u001b[0m\u001b[0;34m]\u001b[0m\u001b[0;34m[\u001b[0m\u001b[0;36m2\u001b[0m\u001b[0;34m]\u001b[0m\u001b[0;34m\u001b[0m\u001b[0m\n\u001b[0m",
      "\u001b[0;31mKeyError\u001b[0m: 2"
     ]
    }
   ],
   "source": [
    "tri=msh.domains[0][2]"
   ]
  },
  {
   "cell_type": "code",
   "execution_count": null,
   "metadata": {
    "collapsed": true
   },
   "outputs": [],
   "source": [
    "tri.form0_ref(tri.intpoints).shape"
   ]
  },
  {
   "cell_type": "code",
   "execution_count": null,
   "metadata": {
    "collapsed": true
   },
   "outputs": [],
   "source": []
  },
  {
   "cell_type": "code",
   "execution_count": null,
   "metadata": {
    "collapsed": true
   },
   "outputs": [],
   "source": []
  },
  {
   "cell_type": "code",
   "execution_count": null,
   "metadata": {
    "collapsed": true
   },
   "outputs": [],
   "source": [
    "tri.def_shapefunctions()\n",
    "tri.def_integration(3)"
   ]
  },
  {
   "cell_type": "code",
   "execution_count": null,
   "metadata": {
    "collapsed": true
   },
   "outputs": [],
   "source": [
    "dN_ref=tri.dform0_ref(tri.intpoints)"
   ]
  },
  {
   "cell_type": "code",
   "execution_count": null,
   "metadata": {
    "collapsed": true
   },
   "outputs": [],
   "source": [
    "J=tri.get_jacobians_isop(tri.intpoints,[0,1])\n",
    "detJ=tri.get_detj_isop(tri.intpoints,[0,1])\n"
   ]
  },
  {
   "cell_type": "code",
   "execution_count": null,
   "metadata": {
    "collapsed": true
   },
   "outputs": [],
   "source": [
    "dN=np.linalg.solve(J,dN_ref)"
   ]
  },
  {
   "cell_type": "code",
   "execution_count": null,
   "metadata": {
    "collapsed": true
   },
   "outputs": [],
   "source": [
    "dNT=dN.transpose((0,1,3,2))"
   ]
  },
  {
   "cell_type": "code",
   "execution_count": null,
   "metadata": {
    "collapsed": true
   },
   "outputs": [],
   "source": [
    "Integrand=np.matmul(dNT,dN)\n",
    "Integrand=Integrand*detJ"
   ]
  },
  {
   "cell_type": "code",
   "execution_count": null,
   "metadata": {
    "collapsed": true
   },
   "outputs": [],
   "source": [
    "Integral=tri.integrate_ref(Integrand)"
   ]
  },
  {
   "cell_type": "code",
   "execution_count": null,
   "metadata": {
    "collapsed": true
   },
   "outputs": [],
   "source": [
    "K=tri.assemble_gnode(Integral)"
   ]
  },
  {
   "cell_type": "code",
   "execution_count": null,
   "metadata": {
    "collapsed": true
   },
   "outputs": [],
   "source": [
    "K.toarray()"
   ]
  }
 ],
 "metadata": {
  "kernelspec": {
   "display_name": "Python 3",
   "language": "python",
   "name": "python3"
  },
  "language_info": {
   "codemirror_mode": {
    "name": "ipython",
    "version": 3
   },
   "file_extension": ".py",
   "mimetype": "text/x-python",
   "name": "python",
   "nbconvert_exporter": "python",
   "pygments_lexer": "ipython3",
   "version": "3.6.0"
  }
 },
 "nbformat": 4,
 "nbformat_minor": 2
}
