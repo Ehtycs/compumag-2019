{
 "cells": [
  {
   "cell_type": "code",
   "execution_count": 6,
   "metadata": {},
   "outputs": [],
   "source": [
    "import numpy as np\n",
    "import npyfem.iotools.gmsh_parser as gmp\n",
    "import meshio as mio\n",
    "from npyfem.npmesh import NPMesh"
   ]
  },
  {
   "cell_type": "code",
   "execution_count": 7,
   "metadata": {},
   "outputs": [],
   "source": [
    "filename = '../resources/magdyn_curr2d.msh'\n",
    "outp=gmp.mio_parse(filename)\n",
    "msh = NPMesh(*outp)"
   ]
  },
  {
   "cell_type": "code",
   "execution_count": 13,
   "metadata": {},
   "outputs": [
    {
     "data": {
      "text/plain": [
       "{1000: {'triangle': <npyfem.mesh.triangles.Triangles3 at 0x7faf538bde48>},\n",
       " 1001: {'triangle': <npyfem.mesh.triangles.Triangles3 at 0x7faf538bde80>},\n",
       " 1002: {'triangle': <npyfem.mesh.triangles.Triangles3 at 0x7faf538bd8d0>},\n",
       " 1003: {'line': <npyfem.mesh.lines.Lines2 at 0x7faf538bd828>}}"
      ]
     },
     "execution_count": 13,
     "metadata": {},
     "output_type": "execute_result"
    }
   ],
   "source": [
    "msh.physicals"
   ]
  }
 ],
 "metadata": {
  "kernelspec": {
   "display_name": "Python 3",
   "language": "python",
   "name": "python3"
  },
  "language_info": {
   "codemirror_mode": {
    "name": "ipython",
    "version": 3
   },
   "file_extension": ".py",
   "mimetype": "text/x-python",
   "name": "python",
   "nbconvert_exporter": "python",
   "pygments_lexer": "ipython3",
   "version": "3.6.3"
  }
 },
 "nbformat": 4,
 "nbformat_minor": 2
}
