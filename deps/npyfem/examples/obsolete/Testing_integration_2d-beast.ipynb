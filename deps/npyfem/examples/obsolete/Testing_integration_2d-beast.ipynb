{
 "cells": [
  {
   "cell_type": "markdown",
   "metadata": {},
   "source": [
    "We test the integration functionality with different element types.\n",
    "First we import the libraries needed"
   ]
  },
  {
   "cell_type": "code",
   "execution_count": 1,
   "metadata": {
    "collapsed": true
   },
   "outputs": [],
   "source": [
    "import meshio as mio\n",
    "import numpy as np\n",
    "from mesh.npmesh import NPMesh"
   ]
  },
  {
   "cell_type": "markdown",
   "metadata": {},
   "source": [
    "\\section{First order bases}\n",
    "The following imports an example mesh containing three squares. Leftmost with quadrangle elements, centermost mixed quadrangles and triangles and rightmost just triangles. Triangles contain three nodes, quadrangles four."
   ]
  },
  {
   "cell_type": "code",
   "execution_count": 2,
   "metadata": {},
   "outputs": [],
   "source": [
    "#simple first order mesh\n",
    "out = mio.read('../npyfem/resources/beast_2d.msh')\n",
    "msh = NPMesh(*out)"
   ]
  },
  {
   "cell_type": "markdown",
   "metadata": {},
   "source": [
    "Now let us take a brief look at the element structure of msh."
   ]
  },
  {
   "cell_type": "code",
   "execution_count": 3,
   "metadata": {
    "scrolled": true
   },
   "outputs": [
    {
     "data": {
      "text/plain": [
       "<mesh.entities.quadrangles.Quadrangles_4node at 0x7fd8c819c320>"
      ]
     },
     "execution_count": 3,
     "metadata": {},
     "output_type": "execute_result"
    }
   ],
   "source": [
    "msh.elementgroups['line']\n",
    "msh.elementgroups['quad']"
   ]
  },
  {
   "cell_type": "markdown",
   "metadata": {},
   "source": [
    "We are now interested in region 1, which contains the whole domain. We can see that region 0 contains not only lines (element group 1) but also triangles (element group 2) and quadrangles (element group 3).\n",
    "\n",
    "We try to integrate surface areas. Let us compute the integral\n",
    "    $$\\int_{\\Omega_i} \\sqrt{\\det g_i}, $$\n",
    "where $\\Omega_i$ is the $i$th reference element (triangle or quadrangle, does not matter too much) and $g_i=J_i^TJ_i$, where $J_i$ is the jacobian of the $i$th element coordinate mapping. We begin with one integration point. Note that $\\sqrt{\\det g}=\\sqrt{\\det (J^TJ)}=\\sqrt{\\det J^T \\det J}=| \\det J |$ for a square matrix  $J$. But since the mesh is embedded in higher dimension, it is convenient to use the square root of the determinant of $g$ instead.\n",
    "\n",
    "Next we call for the triangles and quadrangles and define integration by one integration point. Then we define the shape functions in the reference elements."
   ]
  },
  {
   "cell_type": "code",
   "execution_count": 4,
   "metadata": {
    "collapsed": true
   },
   "outputs": [],
   "source": [
    "#call for triangles and make the definitions\n",
    "triangles = msh.elementgroups['triangle']\n",
    "triangles.def_integration(1)"
   ]
  },
  {
   "cell_type": "code",
   "execution_count": 5,
   "metadata": {
    "collapsed": true
   },
   "outputs": [],
   "source": [
    "#call for quadrangles and make the definitions\n",
    "quadrangles = msh.elementgroups['quad']\n",
    "quadrangles.def_integration(1)"
   ]
  },
  {
   "cell_type": "markdown",
   "metadata": {},
   "source": [
    "The integrations are carried out as follows."
   ]
  },
  {
   "cell_type": "code",
   "execution_count": 6,
   "metadata": {
    "collapsed": true
   },
   "outputs": [],
   "source": [
    "#triangle surfaces over the domain\n",
    "J_tri = triangles.get_jacobians_isop(triangles.intpoints, [0,1])\n",
    "JT_tri = J_tri.transpose(0,1,3,2)\n",
    "g_tri = np.matmul(JT_tri,J_tri)\n",
    "detg_tri = np.linalg.det(g_tri)\n",
    "ints_tri = triangles.integrate_ref(np.sqrt(detg_tri))"
   ]
  },
  {
   "cell_type": "code",
   "execution_count": 7,
   "metadata": {
    "collapsed": true
   },
   "outputs": [],
   "source": [
    "#quadrangle surfaces over the domain\n",
    "J_quad = quadrangles.get_jacobians_isop(quadrangles.intpoints, [0,1])\n",
    "JT_quad = J_quad.transpose(0,1,3,2)\n",
    "g_quad = np.matmul(JT_quad,J_quad)\n",
    "detg_quad = np.linalg.det(g_quad)\n",
    "ints_quad = quadrangles.integrate_ref(np.sqrt(detg_quad))"
   ]
  },
  {
   "cell_type": "markdown",
   "metadata": {},
   "source": [
    "Now the arrays \\emph{ints_tri} and \\emph{ints_quad} contain integrals of each element in the corresponding element group. We obtain the surface areas by summing over each index."
   ]
  },
  {
   "cell_type": "code",
   "execution_count": 8,
   "metadata": {},
   "outputs": [
    {
     "data": {
      "text/plain": [
       "3.0"
      ]
     },
     "execution_count": 8,
     "metadata": {},
     "output_type": "execute_result"
    }
   ],
   "source": [
    "ints_tri.sum()+ints_quad.sum()"
   ]
  },
  {
   "cell_type": "markdown",
   "metadata": {},
   "source": [
    "The result is the desired one and independent of the number of integration points. Next we compute the line length of the boundary of region 1. This is found in region 2. The integral is just the same \n",
    "    $$\\int_{\\Gamma_i} \\sqrt{\\det g_i}, $$\n",
    "where $\\Gamma_i$ is the $i$th reference line element and $g_i=J_i^TJ_i$, where $J_i$ is the jacobian of the $i$th line element coordinate mapping. We obtain"
   ]
  },
  {
   "cell_type": "code",
   "execution_count": null,
   "metadata": {},
   "outputs": [],
   "source": []
  },
  {
   "cell_type": "code",
   "execution_count": 9,
   "metadata": {},
   "outputs": [
    {
     "data": {
      "text/plain": [
       "5.9999999999999982"
      ]
     },
     "execution_count": 9,
     "metadata": {},
     "output_type": "execute_result"
    }
   ],
   "source": [
    "lines=msh.elementgroups['line']\n",
    "lines.def_integration(2)\n",
    "\n",
    "J_line=lines.get_jacobians_isop(lines.intpoints,[0])\n",
    "JT_line=J_line.transpose(0,1,3,2)\n",
    "g_line=np.matmul(JT_line,J_line)\n",
    "detg_line=np.linalg.det(g_line)\n",
    "ints_line=lines.integrate_ref(np.sqrt(detg_line))\n",
    "ints_line.sum()"
   ]
  },
  {
   "cell_type": "markdown",
   "metadata": {},
   "source": [
    "which is the desired result."
   ]
  },
  {
   "cell_type": "markdown",
   "metadata": {},
   "source": [
    "# Higher order bases\n",
    "The following imports the same mesh containing three squares. This time the triangles contain six nodes, quadrangles nine and the lines two. Surface areas are computed as"
   ]
  },
  {
   "cell_type": "code",
   "execution_count": 10,
   "metadata": {
    "collapsed": true
   },
   "outputs": [],
   "source": [
    "#simple first order mesh\n",
    "out = mio.read('../npyfem/resources/beast_2d_2ord.msh')\n",
    "msh = NPMesh(*out)"
   ]
  },
  {
   "cell_type": "code",
   "execution_count": 11,
   "metadata": {},
   "outputs": [
    {
     "data": {
      "text/plain": [
       "2.9999999999999996"
      ]
     },
     "execution_count": 11,
     "metadata": {},
     "output_type": "execute_result"
    }
   ],
   "source": [
    "#call for triangles and make the definitions\n",
    "triangles=msh.elementgroups['triangle6']\n",
    "triangles.def_integration(3)\n",
    "\n",
    "#call for quadrangles and make the definitions\n",
    "quadrangles=msh.elementgroups['quad9']\n",
    "quadrangles.def_integration(4)\n",
    "\n",
    "#triangle surfaces over the domain\n",
    "J_tri=triangles.get_jacobians_isop(triangles.intpoints, [0,1])\n",
    "JT_tri=J_tri.transpose(0,1,3,2)\n",
    "g_tri=np.matmul(JT_tri,J_tri)\n",
    "detg_tri=np.linalg.det(g_tri)\n",
    "ints_tri=triangles.integrate_ref(np.sqrt(detg_tri))\n",
    "\n",
    "#quadrangle surfaces over the domain\n",
    "J_quad=quadrangles.get_jacobians_isop(quadrangles.intpoints, [0,1])\n",
    "JT_quad=J_quad.transpose(0,1,3,2)\n",
    "g_quad=np.matmul(JT_quad,J_quad)\n",
    "detg_quad=np.linalg.det(g_quad)\n",
    "ints_quad=quadrangles.integrate_ref(np.sqrt(detg_quad))\n",
    "\n",
    "ints_tri.sum()+ints_quad.sum()"
   ]
  },
  {
   "cell_type": "markdown",
   "metadata": {},
   "source": [
    "and line lengths as"
   ]
  },
  {
   "cell_type": "code",
   "execution_count": 12,
   "metadata": {},
   "outputs": [
    {
     "data": {
      "text/plain": [
       "6.0"
      ]
     },
     "execution_count": 12,
     "metadata": {},
     "output_type": "execute_result"
    }
   ],
   "source": [
    "lines=msh.elementgroups['line3']\n",
    "lines.def_integration(2)\n",
    "\n",
    "J_line=lines.get_jacobians_isop(lines.intpoints, [0])\n",
    "JT_line=J_line.transpose(0,1,3,2)\n",
    "g_line=np.matmul(JT_line,J_line)\n",
    "detg_line=np.linalg.det(g_line)\n",
    "ints_line=lines.integrate_ref(np.sqrt(detg_line))\n",
    "ints_line.sum()"
   ]
  },
  {
   "cell_type": "markdown",
   "metadata": {},
   "source": [
    "who indeed are the same in all ways."
   ]
  }
 ],
 "metadata": {
  "kernelspec": {
   "display_name": "Python 3",
   "language": "python",
   "name": "python3"
  },
  "language_info": {
   "codemirror_mode": {
    "name": "ipython",
    "version": 3
   },
   "file_extension": ".py",
   "mimetype": "text/x-python",
   "name": "python",
   "nbconvert_exporter": "python",
   "pygments_lexer": "ipython3",
   "version": "3.6.0"
  }
 },
 "nbformat": 4,
 "nbformat_minor": 2
}
