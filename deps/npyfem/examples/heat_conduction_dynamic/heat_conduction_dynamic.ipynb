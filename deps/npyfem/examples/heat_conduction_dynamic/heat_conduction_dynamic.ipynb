{
 "cells": [
  {
   "cell_type": "markdown",
   "metadata": {},
   "source": [
    "# Dynamic heat conduction example for NPyfem"
   ]
  },
  {
   "cell_type": "code",
   "execution_count": 1,
   "metadata": {
    "collapsed": true
   },
   "outputs": [],
   "source": [
    "import numpy as np\n",
    "import scipy.sparse as sps\n",
    "import meshio as mio\n",
    "\n",
    "from npyfem.mesh import NPMesh\n",
    "\n",
    "import npyfem.dirichletbc as dbc\n",
    "from npyfem.basis import scalarbasis as sbasis\n",
    "import npyfem.npstruct as nps\n",
    "from npyfem.iotools import vtk_io as vtk\n",
    "\n",
    "from mpl_toolkits.mplot3d import Axes3D\n",
    "\n",
    "import matplotlib.pyplot as plt"
   ]
  },
  {
   "cell_type": "markdown",
   "metadata": {},
   "source": [
    "\n",
    "Solve a heat diffusion problem with time dependent Dirichlet condition \n",
    "and time dependent heating in 2D domain. \n",
    "\n",
    "$$\n",
    "\\begin{align}\n",
    "c \\frac{du}{dt} - \\nabla \\cdot ( k \\nabla u) = f(t)\n",
    "\\end{align}\n",
    "$$\n",
    "with boundary conditions and source terms\n",
    "$$\n",
    "\\begin{align}\n",
    "u(x,t) &= cost(t) \\;& \\mbox{when } x \\in \\mbox{NORTH} \\\\\n",
    "u(x,t) &= 0 \\; & \\mbox{when } x \\in \\mbox{SOUTH} \\\\\n",
    "f(t) &= t^2 \\; ,\\\\\n",
    "\\end{align}\n",
    "$$\n",
    "over time period $t \\in [0, 6\\pi]$.\n",
    "\n",
    "We use a mesh created with gmsh (beast_2d) which contains areas of triangles, quadrangles and an area with mixed elements containing both."
   ]
  },
  {
   "cell_type": "code",
   "execution_count": 2,
   "metadata": {
    "collapsed": true
   },
   "outputs": [],
   "source": [
    "\n",
    "rawmsh = mio.read('../../resources/beast_2d.msh')\n",
    "msh = NPMesh(rawmsh)\n",
    "\n",
    "# Domain identifiers, these are defined in GMSH when mesh is created (physical entities)\n",
    "DOMAIN = 1\n",
    "NORTH = 2\n",
    "EAST = 5\n",
    "SOUTH = 3\n",
    "WEST = 4\n",
    "\n",
    "ndofs = msh.ndofs\n",
    "\n",
    "# constants\n",
    "c = 10\n",
    "k = 10\n",
    "\n",
    "domain = msh.define_domain([DOMAIN])"
   ]
  },
  {
   "cell_type": "markdown",
   "metadata": {
    "collapsed": true
   },
   "source": [
    "It may be convenient to organize the code to single shot functions in \n",
    "order to reduce the amount of single-use variables polluting the namespace.\n",
    "It is naturally sometimes more efficient to re-use some variables.\n",
    "\n",
    "First compute the stiffness matrix through first computing local stiffness matrices\n",
    "$$\n",
    "\\begin{align}\n",
    "K_l = \\int_{\\Omega} < \\nabla N_{el}, \\nabla N_{el} > d \\Omega\n",
    "\\end{align}\n",
    "$$\n",
    "The expression \n",
    "```\n",
    "(k * dNxy.transpose([1,0]) @ dNxy * Jdet1).integrate().assemble()\n",
    "```\n",
    "relies on NPStruct object (defined in npstruct.py) which contains a dictionary of numpy arrays and overloads certain operators abstracting the mesh and basis details (element type, integration points etc.) away from the user. \n",
    "\n",
    "The term inside the brackets evaluates to an NPStruct containing the integrand evaluated in integration points. Calling on method ```integrate()``` evaluates to an NPStruct object containing the local stiffness matrices of elements. Calling on ```assemble()``` uses the mesh connectivity information to assemble the global stiffness matrix as ```scipy.csr_matrix```. "
   ]
  },
  {
   "cell_type": "code",
   "execution_count": 3,
   "metadata": {
    "collapsed": true
   },
   "outputs": [],
   "source": [
    "def compute_stiffmat():\n",
    "    # derivatives of basis functions\n",
    "    dN = nps.d_basis(domain, 1)\n",
    "    \n",
    "    # isoparametric jacobian determinants, last parameter is the columns\n",
    "    # of jacobians because we have embedded 2D elements in 3D (workaround)\n",
    "    Jdet1 = nps.det_jacobians(domain, 1, [0,1])\n",
    "    \n",
    "    # push reference basis functions to xy coordinates\n",
    "    jac = nps.jacobians(domain, 1, [0,1])\n",
    "    dNxy = jac.backslash(dN)\n",
    "\n",
    "    # compute the local stiffness matrices: K = int( dN^T * dN * detJ )\n",
    "    # and assemble the system\n",
    "    return (k * dNxy.transpose([1,0]) @ dNxy * Jdet1).integrate().assemble()\n",
    "\n",
    "K = compute_stiffmat()"
   ]
  },
  {
   "cell_type": "markdown",
   "metadata": {},
   "source": [
    "Similarly we can compute the damping matrix and some more special expressions, such as the area of the mesh and a matrix which divides the source evenly to the domain."
   ]
  },
  {
   "cell_type": "code",
   "execution_count": 4,
   "metadata": {
    "collapsed": true
   },
   "outputs": [],
   "source": [
    "def compute_damping_mat():\n",
    "    \"\"\" Compute damping matrix, needs 2 order integration points \"\"\"\n",
    "    N = nps.basis(domain, 2)\n",
    "    Jdet2 = nps.det_jacobians(domain, 2, [0,1])\n",
    "    return (c * N.transpose([1,0]) @ N * Jdet2).integrate().assemble()\n",
    "\n",
    "T = compute_damping_mat()\n",
    "\n",
    "def compute_domain_area(): \n",
    "    \"\"\" Compute the area of the domain from metric tensor g \"\"\"\n",
    "    jac = nps.jacobians(domain, 1)\n",
    "    detg = (jac@jac.transpose([1,0])).det()\n",
    "    sqrt_detg = detg.unary_map(lambda x: np.sqrt(x)[...,None,None])\n",
    "\n",
    "    return np.sum(sqrt_detg.integrate().assemble().toarray())\n",
    "\n",
    "Adom = compute_domain_area()\n",
    "\n",
    "def compute_heat_divider(): \n",
    "    \"\"\" Compute a vector which distributes heating to the domain evenly \"\"\"\n",
    "    N = nps.basis(domain, 1)\n",
    "    detJ1 = nps.det_jacobians(domain, 1, [0,1])\n",
    "    return (1/Adom * N.transpose([1,0]) * detJ1).integrate().assemble()\n",
    "\n",
    "Cc = compute_heat_divider()"
   ]
  },
  {
   "cell_type": "code",
   "execution_count": 5,
   "metadata": {
    "collapsed": true
   },
   "outputs": [],
   "source": [
    "# Time stepping information\n",
    "timesteps = 400\n",
    "ts = np.linspace(0, 8*np.pi, timesteps)\n",
    "delta_t = ts[1]-ts[0]"
   ]
  },
  {
   "cell_type": "markdown",
   "metadata": {},
   "source": [
    "Module ```dirichletbc.py``` offers some functions to manipulate global system matrices if one wants to set boundary conditions. \n",
    "\n",
    "Here we use the most flexible way where we construct matrices ```Otot``` and ```Itot``` which can be used to set the conditions on our system matrices. These matrices can be composed using multiplication and summation respectively if one has multiple boundary conditions which need to be set."
   ]
  },
  {
   "cell_type": "code",
   "execution_count": 6,
   "metadata": {
    "collapsed": true
   },
   "outputs": [],
   "source": [
    "# Dof numbers of the boundaries where BC's are set.\n",
    "north_dofs = msh.get_global_nodeids([NORTH])\n",
    "south_dofs = msh.get_global_nodeids([SOUTH])\n",
    "\n",
    "# Initialize boundary condition array, shape (timesteps, dofs)\n",
    "Bcs = np.cos(ts)[:,None] @ np.ones((1, north_dofs.shape[0]))\n",
    "dBcsdt = -np.sin(ts)[:,None] @ np.ones((1, north_dofs.shape[0]))\n",
    "\n",
    "Bc_south = np.zeros((south_dofs.shape[0], 1))\n",
    "\n",
    "# Initialize source vector arrays\n",
    "Fs = ts[:,None]**2 @ Cc.T\n",
    "\n",
    "# Compute a mapping which sets rows and columns to zero, \n",
    "Otot = dbc.zero_rowcols_mapping(north_dofs, ndofs) * \\\n",
    "       dbc.zero_rowcols_mapping(south_dofs, ndofs)\n",
    "\n",
    "# Compute mapping which helps to set diagonal elements to one to use on \n",
    "# dirichlet BC setting  \n",
    "Itot = dbc.ones_to_diag_matrix(north_dofs, ndofs) + \\\n",
    "       dbc.ones_to_diag_matrix(south_dofs, ndofs)"
   ]
  },
  {
   "cell_type": "markdown",
   "metadata": {},
   "source": [
    "First we need to compute an initial state which we use as initial condition."
   ]
  },
  {
   "cell_type": "code",
   "execution_count": 7,
   "metadata": {
    "collapsed": true
   },
   "outputs": [],
   "source": [
    "# compute the equilibrium state for initial condition\n",
    "def equilibrium():\n",
    "    # compute dirichlet coupling terms to be substracted from right hand side\n",
    "    Q = dbc.coupling(K, north_dofs, Bcs[0])\n",
    "    \n",
    "    # Zero rows and columns and set diagonals to 1\n",
    "    Kbc = Otot*K*Otot + Itot\n",
    "    \n",
    "    # set BC's to right hand side\n",
    "    # We need to add extra axis with [:,None] to avoid \n",
    "    # wrong kind of broadcasting behaviour\n",
    "    Fbc = Fs[0][:,None] - Q\n",
    "    Fbc[north_dofs] = Bcs[0][:,None]\n",
    "    Fbc[south_dofs] = 0\n",
    "    \n",
    "    return sps.linalg.spsolve(Kbc, Fbc)\n",
    "\n",
    "u0 = equilibrium()\n",
    "up = u0\n",
    "      "
   ]
  },
  {
   "cell_type": "markdown",
   "metadata": {},
   "source": [
    "This cell runs the time stepping. We use Backward Euler scheme in this example."
   ]
  },
  {
   "cell_type": "code",
   "execution_count": 8,
   "metadata": {
    "collapsed": true
   },
   "outputs": [],
   "source": [
    "Tdt = 1/delta_t*T\n",
    "\n",
    "#%%\n",
    "us = []\n",
    "\n",
    "for ti in range(0,timesteps):\n",
    "    \n",
    "    # Compute the Dirichlet coupling terms to the right hand side \n",
    "    # from original K and T\n",
    "    Q = dbc.coupling(K, north_dofs, Bcs[ti]) + \\\n",
    "        dbc.coupling(T, north_dofs, dBcsdt[ti])\n",
    "        \n",
    "    Lhs = Tdt + K    \n",
    "    Rhs = Fs[ti][:,None] - Q + Tdt@up[:,None]\n",
    "    \n",
    "    # Set dirichlet node rows and columns\n",
    "    Lhs = Otot*Lhs*Otot + Itot\n",
    "    \n",
    "    # Set boundary values\n",
    "    Rhs[north_dofs] = Bcs[ti][:,None]\n",
    "    Rhs[south_dofs] = 0\n",
    "        \n",
    "    u = sps.linalg.spsolve(Lhs, Rhs)\n",
    "    \n",
    "    us.append(u)\n",
    "    up = u\n",
    "    "
   ]
  },
  {
   "cell_type": "code",
   "execution_count": 9,
   "metadata": {},
   "outputs": [
    {
     "data": {
      "image/png": "[encoded data removed]",
      "text/plain": [
       "<matplotlib.figure.Figure at 0x7f13696f57b8>"
      ]
     },
     "metadata": {},
     "output_type": "display_data"
    }
   ],
   "source": [
    "# Plotting function for checking out the solution\n",
    "\n",
    "def plot(u):\n",
    "    fig = plt.figure(1)\n",
    "    ax = fig.add_subplot(111, projection='3d')\n",
    "    for phys, eg in msh.iterate_physical_domains([DOMAIN]):\n",
    "        xs, ys, _ = eg.lnode_coords.T\n",
    "        F = u[eg.global_nodeids]\n",
    "        ax.view_init(elev=10., azim=-20.)\n",
    "        ax.scatter(xs,ys,F)\n",
    "        \n",
    "# Plot 220:th time step solution for example.\n",
    "plot(us[220])"
   ]
  },
  {
   "cell_type": "markdown",
   "metadata": {
    "collapsed": true
   },
   "source": [
    "If you have paraview installed, you can export the data and open it in paraview. For this you need to create ```heat_cond_state.pvsm``` state file in order to store the visualization pipeline between simulation runs."
   ]
  },
  {
   "cell_type": "code",
   "execution_count": 10,
   "metadata": {},
   "outputs": [
    {
     "data": {
      "text/plain": [
       "<subprocess.Popen at 0x7f13696c0e80>"
      ]
     },
     "execution_count": 10,
     "metadata": {},
     "output_type": "execute_result"
    }
   ],
   "source": [
    "#%% * * * * * * * * * * * * * * * * * * * * * * * * * * * * * * * * * * * * * \n",
    "#   Export to paraview for Maximum Viewing Pleasure (TM)\n",
    "\n",
    "solution = np.stack(us)\n",
    "\n",
    "fnamef = \"heat_cond\"\n",
    "\n",
    "## Ensure that the folder to store results exists\n",
    "import os, errno\n",
    "\n",
    "try:\n",
    "    os.makedirs(fnamef)\n",
    "except OSError as e:\n",
    "    if e.errno != errno.EEXIST:\n",
    "        raise\n",
    "\n",
    "vtk.export_time_fields(msh, fnamef, ts, \n",
    "                   pointdata={'u': solution})\n",
    "\n",
    "#%% * * * * * * * * * * * * * * * * * * * * * * * * * * * * * * * * * * * * *\n",
    "#   Show in paraview\n",
    "from subprocess import Popen\n",
    "\n",
    "Popen([\"paraview\", \"--state=heat_cond_state.pvsm\"])\n",
    "\n",
    "\n",
    "    "
   ]
  }
 ],
 "metadata": {
  "kernelspec": {
   "display_name": "Python 3",
   "language": "python",
   "name": "python3"
  },
  "language_info": {
   "codemirror_mode": {
    "name": "ipython",
    "version": 3
   },
   "file_extension": ".py",
   "mimetype": "text/x-python",
   "name": "python",
   "nbconvert_exporter": "python",
   "pygments_lexer": "ipython3",
   "version": "3.6.0"
  }
 },
 "nbformat": 4,
 "nbformat_minor": 2
}
